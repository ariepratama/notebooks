{
 "cells": [
  {
   "cell_type": "code",
   "execution_count": 1,
   "id": "a66ea8bf",
   "metadata": {},
   "outputs": [],
   "source": [
    "%load_ext autoreload\n",
    "%autoreload 2"
   ]
  },
  {
   "cell_type": "code",
   "execution_count": 1,
   "id": "e34e0d92",
   "metadata": {},
   "outputs": [],
   "source": [
    "from sklearn.model_selection import train_test_split\n",
    "from lib.reader import *\n",
    "from lib.preprocess import *\n",
    "import nltk\n",
    "from sklearn.pipeline import *\n",
    "from sklearn.feature_extraction.text import *\n",
    "from sklearn.ensemble import RandomForestClassifier\n",
    "import numpy as np\n",
    "from sklearn.metrics import *\n",
    "from functools import partial\n",
    "from lib.morph import *"
   ]
  },
  {
   "cell_type": "code",
   "execution_count": 2,
   "id": "dafe02e2",
   "metadata": {},
   "outputs": [],
   "source": [
    "data_loc = \"../data/id-syntax-sentence-classification.xlsx\"\n",
    "data: pd.DataFrame = load_as_dataframe(data_loc)"
   ]
  },
  {
   "cell_type": "code",
   "execution_count": 3,
   "id": "5f1b18f6",
   "metadata": {},
   "outputs": [
    {
     "data": {
      "text/html": [
       "<div>\n",
       "<style scoped>\n",
       "    .dataframe tbody tr th:only-of-type {\n",
       "        vertical-align: middle;\n",
       "    }\n",
       "\n",
       "    .dataframe tbody tr th {\n",
       "        vertical-align: top;\n",
       "    }\n",
       "\n",
       "    .dataframe thead th {\n",
       "        text-align: right;\n",
       "    }\n",
       "</style>\n",
       "<table border=\"1\" class=\"dataframe\">\n",
       "  <thead>\n",
       "    <tr style=\"text-align: right;\">\n",
       "      <th></th>\n",
       "      <th>Kalimat</th>\n",
       "      <th>simple sentence</th>\n",
       "      <th>compound sentence</th>\n",
       "      <th>complex sentence</th>\n",
       "      <th>compound-complex sentence</th>\n",
       "      <th>incomplete sentence</th>\n",
       "      <th>transitive sentence</th>\n",
       "      <th>intransitive sentence</th>\n",
       "      <th>sentence in active voice</th>\n",
       "      <th>sentence in passive voice</th>\n",
       "      <th>Noun-predicate sentence</th>\n",
       "      <th>Adjective-predicate sentence</th>\n",
       "      <th>Prepositional phrase-predicate sentence</th>\n",
       "      <th>Numeral-predicate sentence</th>\n",
       "      <th>declarative sentence</th>\n",
       "      <th>interrogative sentence</th>\n",
       "      <th>imperative sentence</th>\n",
       "      <th>exclamative sentence</th>\n",
       "      <th>inverted sentence</th>\n",
       "      <th>sentences with dislocation</th>\n",
       "    </tr>\n",
       "  </thead>\n",
       "  <tbody>\n",
       "    <tr>\n",
       "      <th>0</th>\n",
       "      <td>Saat ini ia menjabat sebagai Wakil Bupati Band...</td>\n",
       "      <td>True</td>\n",
       "      <td>False</td>\n",
       "      <td>False</td>\n",
       "      <td>False</td>\n",
       "      <td>False</td>\n",
       "      <td>False</td>\n",
       "      <td>True</td>\n",
       "      <td>True</td>\n",
       "      <td>False</td>\n",
       "      <td>False</td>\n",
       "      <td>False</td>\n",
       "      <td>False</td>\n",
       "      <td>False</td>\n",
       "      <td>True</td>\n",
       "      <td>False</td>\n",
       "      <td>False</td>\n",
       "      <td>False</td>\n",
       "      <td>False</td>\n",
       "      <td>False</td>\n",
       "    </tr>\n",
       "    <tr>\n",
       "      <th>1</th>\n",
       "      <td>Sahrul mengawali kariernya dari dunia model.</td>\n",
       "      <td>True</td>\n",
       "      <td>False</td>\n",
       "      <td>False</td>\n",
       "      <td>False</td>\n",
       "      <td>False</td>\n",
       "      <td>True</td>\n",
       "      <td>False</td>\n",
       "      <td>True</td>\n",
       "      <td>False</td>\n",
       "      <td>False</td>\n",
       "      <td>False</td>\n",
       "      <td>False</td>\n",
       "      <td>False</td>\n",
       "      <td>True</td>\n",
       "      <td>False</td>\n",
       "      <td>False</td>\n",
       "      <td>False</td>\n",
       "      <td>False</td>\n",
       "      <td>False</td>\n",
       "    </tr>\n",
       "    <tr>\n",
       "      <th>2</th>\n",
       "      <td>Kemudian merambah ke dunia tarik suara dan akt...</td>\n",
       "      <td>False</td>\n",
       "      <td>False</td>\n",
       "      <td>False</td>\n",
       "      <td>False</td>\n",
       "      <td>True</td>\n",
       "      <td>False</td>\n",
       "      <td>True</td>\n",
       "      <td>True</td>\n",
       "      <td>False</td>\n",
       "      <td>False</td>\n",
       "      <td>False</td>\n",
       "      <td>False</td>\n",
       "      <td>False</td>\n",
       "      <td>True</td>\n",
       "      <td>False</td>\n",
       "      <td>False</td>\n",
       "      <td>False</td>\n",
       "      <td>False</td>\n",
       "      <td>False</td>\n",
       "    </tr>\n",
       "    <tr>\n",
       "      <th>3</th>\n",
       "      <td>Sinetron yang melambungkan namanya adalah Jin ...</td>\n",
       "      <td>True</td>\n",
       "      <td>False</td>\n",
       "      <td>False</td>\n",
       "      <td>False</td>\n",
       "      <td>False</td>\n",
       "      <td>False</td>\n",
       "      <td>False</td>\n",
       "      <td>False</td>\n",
       "      <td>False</td>\n",
       "      <td>True</td>\n",
       "      <td>False</td>\n",
       "      <td>False</td>\n",
       "      <td>False</td>\n",
       "      <td>True</td>\n",
       "      <td>False</td>\n",
       "      <td>False</td>\n",
       "      <td>False</td>\n",
       "      <td>False</td>\n",
       "      <td>True</td>\n",
       "    </tr>\n",
       "    <tr>\n",
       "      <th>4</th>\n",
       "      <td>Setelah cukup lama membintangi sinetron terseb...</td>\n",
       "      <td>False</td>\n",
       "      <td>False</td>\n",
       "      <td>False</td>\n",
       "      <td>True</td>\n",
       "      <td>False</td>\n",
       "      <td>True</td>\n",
       "      <td>True</td>\n",
       "      <td>True</td>\n",
       "      <td>False</td>\n",
       "      <td>False</td>\n",
       "      <td>False</td>\n",
       "      <td>False</td>\n",
       "      <td>False</td>\n",
       "      <td>True</td>\n",
       "      <td>False</td>\n",
       "      <td>False</td>\n",
       "      <td>False</td>\n",
       "      <td>False</td>\n",
       "      <td>False</td>\n",
       "    </tr>\n",
       "  </tbody>\n",
       "</table>\n",
       "</div>"
      ],
      "text/plain": [
       "                                             Kalimat  simple sentence  \\\n",
       "0  Saat ini ia menjabat sebagai Wakil Bupati Band...             True   \n",
       "1       Sahrul mengawali kariernya dari dunia model.             True   \n",
       "2  Kemudian merambah ke dunia tarik suara dan akt...            False   \n",
       "3  Sinetron yang melambungkan namanya adalah Jin ...             True   \n",
       "4  Setelah cukup lama membintangi sinetron terseb...            False   \n",
       "\n",
       "   compound sentence  complex sentence  compound-complex sentence  \\\n",
       "0              False             False                      False   \n",
       "1              False             False                      False   \n",
       "2              False             False                      False   \n",
       "3              False             False                      False   \n",
       "4              False             False                       True   \n",
       "\n",
       "   incomplete sentence  transitive sentence  intransitive sentence  \\\n",
       "0                False                False                   True   \n",
       "1                False                 True                  False   \n",
       "2                 True                False                   True   \n",
       "3                False                False                  False   \n",
       "4                False                 True                   True   \n",
       "\n",
       "   sentence in active voice  sentence in passive voice  \\\n",
       "0                      True                      False   \n",
       "1                      True                      False   \n",
       "2                      True                      False   \n",
       "3                     False                      False   \n",
       "4                      True                      False   \n",
       "\n",
       "   Noun-predicate sentence  Adjective-predicate sentence  \\\n",
       "0                    False                         False   \n",
       "1                    False                         False   \n",
       "2                    False                         False   \n",
       "3                     True                         False   \n",
       "4                    False                         False   \n",
       "\n",
       "   Prepositional phrase-predicate sentence  Numeral-predicate sentence  \\\n",
       "0                                    False                       False   \n",
       "1                                    False                       False   \n",
       "2                                    False                       False   \n",
       "3                                    False                       False   \n",
       "4                                    False                       False   \n",
       "\n",
       "   declarative sentence  interrogative sentence  imperative sentence  \\\n",
       "0                  True                   False                False   \n",
       "1                  True                   False                False   \n",
       "2                  True                   False                False   \n",
       "3                  True                   False                False   \n",
       "4                  True                   False                False   \n",
       "\n",
       "   exclamative sentence  inverted sentence sentences with dislocation  \n",
       "0                 False              False                      False  \n",
       "1                 False              False                      False  \n",
       "2                 False              False                      False  \n",
       "3                 False              False                       True  \n",
       "4                 False              False                      False  "
      ]
     },
     "execution_count": 3,
     "metadata": {},
     "output_type": "execute_result"
    }
   ],
   "source": [
    "data.head()"
   ]
  },
  {
   "cell_type": "code",
   "execution_count": 4,
   "id": "d7ec2216",
   "metadata": {},
   "outputs": [],
   "source": [
    "filtered_data = data[~(\n",
    "    (data[\"declarative sentence\"] & data[\"interrogative sentence\"]) |\n",
    "    (data[\"simple sentence\"] & data[\"complex sentence\"]) |\n",
    "    (data[\"declarative sentence\"] & data[\"imperative sentence\"]) |\n",
    "    (data[\"simple sentence\"] & data[\"compound-complex sentence\"]) |\n",
    "    (data[\"simple sentence\"] & data[\"compound sentence\"])\n",
    ")].copy()"
   ]
  },
  {
   "cell_type": "code",
   "execution_count": 5,
   "id": "1c394d73",
   "metadata": {},
   "outputs": [],
   "source": [
    "filtered_data.loc[:, \"sentences with dislocation\"] = filtered_data.loc[:, \"sentences with dislocation\"].astype(bool)"
   ]
  },
  {
   "cell_type": "code",
   "execution_count": 6,
   "id": "d16584d8",
   "metadata": {},
   "outputs": [],
   "source": [
    "y_columns = [col for col in data.columns if col != \"Kalimat\"]"
   ]
  },
  {
   "cell_type": "code",
   "execution_count": 58,
   "id": "720c8ffd",
   "metadata": {},
   "outputs": [],
   "source": [
    "filtered_data = filtered_data.reset_index()"
   ]
  },
  {
   "cell_type": "code",
   "execution_count": 93,
   "id": "976a6d10",
   "metadata": {},
   "outputs": [],
   "source": [
    "X = filtered_data\n",
    "y = filtered_data[y_columns]\n",
    "X_train, X_test, y_train, y_test = train_test_split(X, y, test_size=0.3, random_state=32)"
   ]
  },
  {
   "cell_type": "code",
   "execution_count": 94,
   "id": "c256724a",
   "metadata": {},
   "outputs": [],
   "source": [
    "X_train = X_train.copy()\n",
    "X_test = X_test.copy()"
   ]
  },
  {
   "cell_type": "code",
   "execution_count": 95,
   "id": "0c36d28f",
   "metadata": {},
   "outputs": [],
   "source": [
    "from concurrent.futures import ProcessPoolExecutor"
   ]
  },
  {
   "cell_type": "code",
   "execution_count": 96,
   "id": "b7a019b9",
   "metadata": {},
   "outputs": [],
   "source": [
    "def parse_with_index(i, text):\n",
    "    return (i, parse(text))"
   ]
  },
  {
   "cell_type": "code",
   "execution_count": 97,
   "id": "0c9fa9b5",
   "metadata": {},
   "outputs": [],
   "source": [
    "process_pool = ProcessPoolExecutor(12)"
   ]
  },
  {
   "cell_type": "code",
   "execution_count": 65,
   "id": "e8edf8d0",
   "metadata": {},
   "outputs": [],
   "source": [
    "futures = [\n",
    "    process_pool.submit(parse_with_index, i, text) \n",
    "    for i, text in zip(X_train.index, X_train[\"Kalimat\"].values)\n",
    "]"
   ]
  },
  {
   "cell_type": "code",
   "execution_count": 66,
   "id": "111d8ffc",
   "metadata": {},
   "outputs": [],
   "source": [
    "for f in futures:\n",
    "    f.result()"
   ]
  },
  {
   "cell_type": "code",
   "execution_count": 67,
   "id": "ecf4bd8a",
   "metadata": {},
   "outputs": [],
   "source": [
    "X_train = X_train.copy()"
   ]
  },
  {
   "cell_type": "code",
   "execution_count": 68,
   "id": "b72815f7",
   "metadata": {},
   "outputs": [],
   "source": [
    "X_train[\"parsed\"] = \"\""
   ]
  },
  {
   "cell_type": "code",
   "execution_count": 69,
   "id": "0e8e295c",
   "metadata": {},
   "outputs": [],
   "source": [
    "for future in futures:\n",
    "    i, parsed = future.result()\n",
    "    X_train.loc[i, \"parsed\"] = parsed"
   ]
  },
  {
   "cell_type": "code",
   "execution_count": 70,
   "id": "15aec075",
   "metadata": {},
   "outputs": [],
   "source": [
    "X_train.to_csv(\"../data/train.csv\")"
   ]
  },
  {
   "cell_type": "code",
   "execution_count": 72,
   "id": "9b6f2310",
   "metadata": {},
   "outputs": [
    {
     "name": "stdout",
     "output_type": "stream",
     "text": [
      "Bagi sikerei yang berjenis kelamin perempuan, pada dasarnya adalah bersifat membantu sikerei laki-laki dan biasanya adalah istri dari sikerei tersebut.\n",
      "^bagi<r>_R--$ ^sikerei<x>_X--$ ^yang<s>_S--$ ^ber+jenis<n>_VSA$ ^kelamin<n>_NSD$ ^perempuan<n>_NSD$ ^pada<b>_B--$ ^dasarnya<b>_B--$ ^adalah<o>_O--$ ^ber+sifat<n>_VSA$ ^meN+bantu<v>_VSA$ ^sikerei<x>_X--$ ^lakilaki<x>_X--$ ^dan<h>_H--$ ^biasanya<d>_D--$ ^adalah<o>_O--$ ^istri<n>_NSD$ ^dari<r>_R--$ ^sikerei<x>_X--$ ^tersebut<b>_B--$\n"
     ]
    }
   ],
   "source": [
    "idx = 84\n",
    "print(X_train.iloc[idx][\"Kalimat\"])\n",
    "print(X_train.iloc[idx][\"parsed\"])"
   ]
  },
  {
   "cell_type": "code",
   "execution_count": 99,
   "id": "b4c1a422",
   "metadata": {},
   "outputs": [],
   "source": [
    "test_futures = [\n",
    "    process_pool.submit(parse_with_index, i, text) \n",
    "    for i, text in zip(X_test.index, X_test[\"Kalimat\"].values)\n",
    "]"
   ]
  },
  {
   "cell_type": "code",
   "execution_count": 100,
   "id": "3d460d74",
   "metadata": {},
   "outputs": [],
   "source": [
    "for future in test_futures:\n",
    "    i, parsed = future.result()\n",
    "    X_test.loc[i, \"parsed\"] = parsed"
   ]
  },
  {
   "cell_type": "code",
   "execution_count": 101,
   "id": "fbdf07e6",
   "metadata": {},
   "outputs": [],
   "source": [
    "X_test.to_csv(\"../data/test.csv\")"
   ]
  },
  {
   "cell_type": "code",
   "execution_count": 85,
   "id": "3ebc3bc3",
   "metadata": {},
   "outputs": [
    {
     "data": {
      "text/plain": [
       "index                                                                                  352.0\n",
       "Kalimat                                    Jempol terbalik karena pemerintah, lembaga yan...\n",
       "simple sentence                                                                        False\n",
       "compound sentence                                                                      False\n",
       "complex sentence                                                                        True\n",
       "compound-complex sentence                                                              False\n",
       "incomplete sentence                                                                    False\n",
       "transitive sentence                                                                     True\n",
       "intransitive sentence                                                                   True\n",
       "sentence in active voice                                                                True\n",
       "sentence in passive voice                                                               True\n",
       "Noun-predicate sentence                                                                False\n",
       "Adjective-predicate sentence                                                           False\n",
       "Prepositional phrase-predicate sentence                                                False\n",
       "Numeral-predicate sentence                                                             False\n",
       "declarative sentence                                                                    True\n",
       "interrogative sentence                                                                 False\n",
       "imperative sentence                                                                    False\n",
       "exclamative sentence                                                                   False\n",
       "inverted sentence                                                                      False\n",
       "sentences with dislocation                                                             False\n",
       "parsed                                     ^jempol<x>_X--$ ^ter+balik<v>_VSP$ ^karena<s>_...\n",
       "Name: 2843, dtype: object"
      ]
     },
     "execution_count": 85,
     "metadata": {},
     "output_type": "execute_result"
    }
   ],
   "source": [
    "X_test.loc[2843]"
   ]
  },
  {
   "cell_type": "code",
   "execution_count": 89,
   "id": "cd3ede4c",
   "metadata": {},
   "outputs": [
    {
     "data": {
      "text/plain": [
       "(9966, 21)"
      ]
     },
     "execution_count": 89,
     "metadata": {},
     "output_type": "execute_result"
    }
   ],
   "source": [
    "X.shape"
   ]
  },
  {
   "cell_type": "code",
   "execution_count": 88,
   "id": "75c4a695",
   "metadata": {},
   "outputs": [
    {
     "data": {
      "text/plain": [
       "(6976, 22)"
      ]
     },
     "execution_count": 88,
     "metadata": {},
     "output_type": "execute_result"
    }
   ],
   "source": [
    "X_train.shape"
   ]
  },
  {
   "cell_type": "code",
   "execution_count": 92,
   "id": "408c1c1d",
   "metadata": {},
   "outputs": [
    {
     "data": {
      "text/plain": [
       "(9966, 22)"
      ]
     },
     "execution_count": 92,
     "metadata": {},
     "output_type": "execute_result"
    }
   ],
   "source": [
    "X_test.shape"
   ]
  }
 ],
 "metadata": {
  "kernelspec": {
   "display_name": "Python 3 (ipykernel)",
   "language": "python",
   "name": "python3"
  },
  "language_info": {
   "codemirror_mode": {
    "name": "ipython",
    "version": 3
   },
   "file_extension": ".py",
   "mimetype": "text/x-python",
   "name": "python",
   "nbconvert_exporter": "python",
   "pygments_lexer": "ipython3",
   "version": "3.7.10"
  }
 },
 "nbformat": 4,
 "nbformat_minor": 5
}
