{
 "cells": [
  {
   "cell_type": "code",
   "execution_count": 1,
   "id": "71f946fd",
   "metadata": {},
   "outputs": [],
   "source": [
    "%load_ext autoreload\n",
    "%autoreload 2"
   ]
  },
  {
   "cell_type": "markdown",
   "id": "b3b864e6",
   "metadata": {},
   "source": [
    "In this simple notebook I want to explore about simple sentence classification using tf-idf and RandomForest. "
   ]
  },
  {
   "cell_type": "code",
   "execution_count": 111,
   "id": "06e2e815",
   "metadata": {},
   "outputs": [],
   "source": [
    "from sklearn.model_selection import train_test_split\n",
    "from lib.reader import *\n",
    "from lib.preprocess import *\n",
    "import nltk\n",
    "from sklearn.pipeline import *\n",
    "from sklearn.feature_extraction.text import *\n",
    "from sklearn.ensemble import RandomForestClassifier\n",
    "import numpy as np\n",
    "from sklearn.metrics import *\n",
    "from functools import partial"
   ]
  },
  {
   "cell_type": "code",
   "execution_count": 5,
   "id": "ad792cd0",
   "metadata": {
    "pycharm": {
     "name": "#%%\n"
    }
   },
   "outputs": [],
   "source": [
    "data_loc = \"../data/id-syntax-sentence-classification.xlsx\"\n",
    "data: pd.DataFrame = load_as_dataframe(data_loc)"
   ]
  },
  {
   "cell_type": "code",
   "execution_count": 6,
   "id": "c2887e4d",
   "metadata": {
    "pycharm": {
     "name": "#%%\n"
    }
   },
   "outputs": [
    {
     "data": {
      "text/html": [
       "<div>\n",
       "<style scoped>\n",
       "    .dataframe tbody tr th:only-of-type {\n",
       "        vertical-align: middle;\n",
       "    }\n",
       "\n",
       "    .dataframe tbody tr th {\n",
       "        vertical-align: top;\n",
       "    }\n",
       "\n",
       "    .dataframe thead th {\n",
       "        text-align: right;\n",
       "    }\n",
       "</style>\n",
       "<table border=\"1\" class=\"dataframe\">\n",
       "  <thead>\n",
       "    <tr style=\"text-align: right;\">\n",
       "      <th></th>\n",
       "      <th>Kalimat</th>\n",
       "      <th>simple sentence</th>\n",
       "      <th>compound sentence</th>\n",
       "      <th>complex sentence</th>\n",
       "      <th>compound-complex sentence</th>\n",
       "      <th>incomplete sentence</th>\n",
       "      <th>transitive sentence</th>\n",
       "      <th>intransitive sentence</th>\n",
       "      <th>sentence in active voice</th>\n",
       "      <th>sentence in passive voice</th>\n",
       "      <th>Noun-predicate sentence</th>\n",
       "      <th>Adjective-predicate sentence</th>\n",
       "      <th>Prepositional phrase-predicate sentence</th>\n",
       "      <th>Numeral-predicate sentence</th>\n",
       "      <th>declarative sentence</th>\n",
       "      <th>interrogative sentence</th>\n",
       "      <th>imperative sentence</th>\n",
       "      <th>exclamative sentence</th>\n",
       "      <th>inverted sentence</th>\n",
       "      <th>sentences with dislocation</th>\n",
       "    </tr>\n",
       "  </thead>\n",
       "  <tbody>\n",
       "    <tr>\n",
       "      <th>0</th>\n",
       "      <td>Saat ini ia menjabat sebagai Wakil Bupati Band...</td>\n",
       "      <td>True</td>\n",
       "      <td>False</td>\n",
       "      <td>False</td>\n",
       "      <td>False</td>\n",
       "      <td>False</td>\n",
       "      <td>False</td>\n",
       "      <td>True</td>\n",
       "      <td>True</td>\n",
       "      <td>False</td>\n",
       "      <td>False</td>\n",
       "      <td>False</td>\n",
       "      <td>False</td>\n",
       "      <td>False</td>\n",
       "      <td>True</td>\n",
       "      <td>False</td>\n",
       "      <td>False</td>\n",
       "      <td>False</td>\n",
       "      <td>False</td>\n",
       "      <td>False</td>\n",
       "    </tr>\n",
       "    <tr>\n",
       "      <th>1</th>\n",
       "      <td>Sahrul mengawali kariernya dari dunia model.</td>\n",
       "      <td>True</td>\n",
       "      <td>False</td>\n",
       "      <td>False</td>\n",
       "      <td>False</td>\n",
       "      <td>False</td>\n",
       "      <td>True</td>\n",
       "      <td>False</td>\n",
       "      <td>True</td>\n",
       "      <td>False</td>\n",
       "      <td>False</td>\n",
       "      <td>False</td>\n",
       "      <td>False</td>\n",
       "      <td>False</td>\n",
       "      <td>True</td>\n",
       "      <td>False</td>\n",
       "      <td>False</td>\n",
       "      <td>False</td>\n",
       "      <td>False</td>\n",
       "      <td>False</td>\n",
       "    </tr>\n",
       "    <tr>\n",
       "      <th>2</th>\n",
       "      <td>Kemudian merambah ke dunia tarik suara dan akt...</td>\n",
       "      <td>False</td>\n",
       "      <td>False</td>\n",
       "      <td>False</td>\n",
       "      <td>False</td>\n",
       "      <td>True</td>\n",
       "      <td>False</td>\n",
       "      <td>True</td>\n",
       "      <td>True</td>\n",
       "      <td>False</td>\n",
       "      <td>False</td>\n",
       "      <td>False</td>\n",
       "      <td>False</td>\n",
       "      <td>False</td>\n",
       "      <td>True</td>\n",
       "      <td>False</td>\n",
       "      <td>False</td>\n",
       "      <td>False</td>\n",
       "      <td>False</td>\n",
       "      <td>False</td>\n",
       "    </tr>\n",
       "    <tr>\n",
       "      <th>3</th>\n",
       "      <td>Sinetron yang melambungkan namanya adalah Jin ...</td>\n",
       "      <td>True</td>\n",
       "      <td>False</td>\n",
       "      <td>False</td>\n",
       "      <td>False</td>\n",
       "      <td>False</td>\n",
       "      <td>False</td>\n",
       "      <td>False</td>\n",
       "      <td>False</td>\n",
       "      <td>False</td>\n",
       "      <td>True</td>\n",
       "      <td>False</td>\n",
       "      <td>False</td>\n",
       "      <td>False</td>\n",
       "      <td>True</td>\n",
       "      <td>False</td>\n",
       "      <td>False</td>\n",
       "      <td>False</td>\n",
       "      <td>False</td>\n",
       "      <td>True</td>\n",
       "    </tr>\n",
       "    <tr>\n",
       "      <th>4</th>\n",
       "      <td>Setelah cukup lama membintangi sinetron terseb...</td>\n",
       "      <td>False</td>\n",
       "      <td>False</td>\n",
       "      <td>False</td>\n",
       "      <td>True</td>\n",
       "      <td>False</td>\n",
       "      <td>True</td>\n",
       "      <td>True</td>\n",
       "      <td>True</td>\n",
       "      <td>False</td>\n",
       "      <td>False</td>\n",
       "      <td>False</td>\n",
       "      <td>False</td>\n",
       "      <td>False</td>\n",
       "      <td>True</td>\n",
       "      <td>False</td>\n",
       "      <td>False</td>\n",
       "      <td>False</td>\n",
       "      <td>False</td>\n",
       "      <td>False</td>\n",
       "    </tr>\n",
       "  </tbody>\n",
       "</table>\n",
       "</div>"
      ],
      "text/plain": [
       "                                             Kalimat  simple sentence  \\\n",
       "0  Saat ini ia menjabat sebagai Wakil Bupati Band...             True   \n",
       "1       Sahrul mengawali kariernya dari dunia model.             True   \n",
       "2  Kemudian merambah ke dunia tarik suara dan akt...            False   \n",
       "3  Sinetron yang melambungkan namanya adalah Jin ...             True   \n",
       "4  Setelah cukup lama membintangi sinetron terseb...            False   \n",
       "\n",
       "   compound sentence  complex sentence  compound-complex sentence  \\\n",
       "0              False             False                      False   \n",
       "1              False             False                      False   \n",
       "2              False             False                      False   \n",
       "3              False             False                      False   \n",
       "4              False             False                       True   \n",
       "\n",
       "   incomplete sentence  transitive sentence  intransitive sentence  \\\n",
       "0                False                False                   True   \n",
       "1                False                 True                  False   \n",
       "2                 True                False                   True   \n",
       "3                False                False                  False   \n",
       "4                False                 True                   True   \n",
       "\n",
       "   sentence in active voice  sentence in passive voice  \\\n",
       "0                      True                      False   \n",
       "1                      True                      False   \n",
       "2                      True                      False   \n",
       "3                     False                      False   \n",
       "4                      True                      False   \n",
       "\n",
       "   Noun-predicate sentence  Adjective-predicate sentence  \\\n",
       "0                    False                         False   \n",
       "1                    False                         False   \n",
       "2                    False                         False   \n",
       "3                     True                         False   \n",
       "4                    False                         False   \n",
       "\n",
       "   Prepositional phrase-predicate sentence  Numeral-predicate sentence  \\\n",
       "0                                    False                       False   \n",
       "1                                    False                       False   \n",
       "2                                    False                       False   \n",
       "3                                    False                       False   \n",
       "4                                    False                       False   \n",
       "\n",
       "   declarative sentence  interrogative sentence  imperative sentence  \\\n",
       "0                  True                   False                False   \n",
       "1                  True                   False                False   \n",
       "2                  True                   False                False   \n",
       "3                  True                   False                False   \n",
       "4                  True                   False                False   \n",
       "\n",
       "   exclamative sentence  inverted sentence sentences with dislocation  \n",
       "0                 False              False                      False  \n",
       "1                 False              False                      False  \n",
       "2                 False              False                      False  \n",
       "3                 False              False                       True  \n",
       "4                 False              False                      False  "
      ]
     },
     "execution_count": 6,
     "metadata": {},
     "output_type": "execute_result"
    }
   ],
   "source": [
    "data.head()"
   ]
  },
  {
   "cell_type": "markdown",
   "id": "90b66f2f",
   "metadata": {},
   "source": [
    "At the previous notebook, I have found that there are some classes combination that could have been mislabeled. So in this exploration I should exclude those sentence, especially because the proportion is low."
   ]
  },
  {
   "cell_type": "code",
   "execution_count": 13,
   "id": "c2331fa2",
   "metadata": {},
   "outputs": [],
   "source": [
    "filtered_data = data[~(\n",
    "    (data[\"declarative sentence\"] & data[\"interrogative sentence\"]) |\n",
    "    (data[\"simple sentence\"] & data[\"complex sentence\"]) |\n",
    "    (data[\"declarative sentence\"] & data[\"imperative sentence\"]) |\n",
    "    (data[\"simple sentence\"] & data[\"compound-complex sentence\"]) |\n",
    "    (data[\"simple sentence\"] & data[\"compound sentence\"])\n",
    ")].copy()"
   ]
  },
  {
   "cell_type": "code",
   "execution_count": 92,
   "id": "30cde584",
   "metadata": {},
   "outputs": [],
   "source": [
    "filtered_data.loc[:, \"sentences with dislocation\"] = filtered_data.loc[:, \"sentences with dislocation\"].astype(bool)"
   ]
  },
  {
   "cell_type": "code",
   "execution_count": 131,
   "id": "0844731b",
   "metadata": {},
   "outputs": [],
   "source": [
    "y_columns = [col for col in data.columns if col != \"Kalimat\"]"
   ]
  },
  {
   "cell_type": "code",
   "execution_count": 93,
   "id": "ef7ed9e3",
   "metadata": {},
   "outputs": [],
   "source": [
    "X = filtered_data[[\"Kalimat\"]]\n",
    "y = filtered_data[y_columns]\n",
    "X_train, X_test, y_train, y_test = train_test_split(X, y, test_size=0.3, random_state=32)"
   ]
  },
  {
   "cell_type": "code",
   "execution_count": 157,
   "id": "addf294b",
   "metadata": {},
   "outputs": [
    {
     "data": {
      "text/plain": [
       "CountVectorizer()"
      ]
     },
     "execution_count": 157,
     "metadata": {},
     "output_type": "execute_result"
    }
   ],
   "source": [
    "train_count_vectorizer = CountVectorizer()\n",
    "train_count_vectorizer.fit(X_train[\"Kalimat\"])\n",
    "\n",
    "test_count_vectorizer = CountVectorizer()\n",
    "test_count_vectorizer.fit(X_test[\"Kalimat\"])"
   ]
  },
  {
   "cell_type": "code",
   "execution_count": 162,
   "id": "0a6a9c20",
   "metadata": {},
   "outputs": [],
   "source": [
    "train_term_set = set(train_count_vectorizer.vocabulary_.keys())\n",
    "test_term_set = set(test_count_vectorizer.vocabulary_.keys())"
   ]
  },
  {
   "cell_type": "code",
   "execution_count": 166,
   "id": "09370afd",
   "metadata": {},
   "outputs": [],
   "source": [
    "all_vocab_len = len(train_term_set.union(test_term_set))\n",
    "intersected_vocab_len = len(train_term_set.intersection(test_term_set))\n",
    "difference_vocab_len = len(test_term_set.difference(train_term_set))"
   ]
  },
  {
   "cell_type": "code",
   "execution_count": 168,
   "id": "c9338212",
   "metadata": {},
   "outputs": [
    {
     "name": "stdout",
     "output_type": "stream",
     "text": [
      "pct intersected terms between train and test=38.5%\n"
     ]
    }
   ],
   "source": [
    "pct_intersected = intersected_vocab_len / all_vocab_len\n",
    "print(f\"pct intersected terms between train and test={pct_intersected:.1%}\")"
   ]
  },
  {
   "cell_type": "code",
   "execution_count": 184,
   "id": "0b6f1b15",
   "metadata": {},
   "outputs": [
    {
     "name": "stdout",
     "output_type": "stream",
     "text": [
      "pct vocab in test not existed in train=27.9%\n"
     ]
    }
   ],
   "source": [
    "a = len(test_term_set.difference(train_term_set)) / len(test_term_set)\n",
    "print(f\"pct vocab in test not existed in train={a:.1%}\")"
   ]
  },
  {
   "cell_type": "code",
   "execution_count": 96,
   "id": "f71bd9c3",
   "metadata": {},
   "outputs": [],
   "source": [
    "p = make_pipeline(\n",
    "    TfidfVectorizer(ngram_range=(1,2)),\n",
    "    RandomForestClassifier()\n",
    ")"
   ]
  },
  {
   "cell_type": "code",
   "execution_count": 98,
   "id": "164f1431",
   "metadata": {},
   "outputs": [
    {
     "data": {
      "text/plain": [
       "Pipeline(steps=[('tfidfvectorizer', TfidfVectorizer(ngram_range=(1, 2))),\n",
       "                ('randomforestclassifier', RandomForestClassifier())])"
      ]
     },
     "execution_count": 98,
     "metadata": {},
     "output_type": "execute_result"
    }
   ],
   "source": [
    "p.fit(X_train[\"Kalimat\"], y_train)"
   ]
  },
  {
   "cell_type": "code",
   "execution_count": 99,
   "id": "86a239b5",
   "metadata": {},
   "outputs": [],
   "source": [
    "train_prediction = p.predict(X_train[\"Kalimat\"])"
   ]
  },
  {
   "cell_type": "code",
   "execution_count": 121,
   "id": "16614a0d",
   "metadata": {},
   "outputs": [],
   "source": [
    "def to_metrics(y_true, y_pred):\n",
    "    evaluation_metrics = {\n",
    "        \"Accuracy\": accuracy_score,\n",
    "        \"F1 Macro\": partial(f1_score, average=\"macro\"),\n",
    "        \"Recall Macro\": partial(f1_score, average=\"macro\"),\n",
    "        \"Precission Macro\": partial(f1_score, average=\"macro\"),\n",
    "        \"F1 Micro\": partial(f1_score, average=\"micro\"),\n",
    "        \"Recall Micro\": partial(f1_score, average=\"micro\"),\n",
    "        \"Precission Micro\": partial(f1_score, average=\"micro\"),\n",
    "    }\n",
    "    \n",
    "    return {\n",
    "        metric_name: evaluation_metrics[metric_name](y_true, y_pred)\n",
    "        for metric_name \n",
    "        in evaluation_metrics\n",
    "    }\n",
    "    "
   ]
  },
  {
   "cell_type": "code",
   "execution_count": 125,
   "id": "bd5e4f11",
   "metadata": {},
   "outputs": [
    {
     "data": {
      "text/plain": [
       "{'Accuracy': 0.9997133027522935,\n",
       " 'F1 Macro': 0.9997055577181029,\n",
       " 'Recall Macro': 0.9997055577181029,\n",
       " 'Precission Macro': 0.9997055577181029,\n",
       " 'F1 Micro': 0.9999501636294168,\n",
       " 'Recall Micro': 0.9999501636294168,\n",
       " 'Precission Micro': 0.9999501636294168}"
      ]
     },
     "execution_count": 125,
     "metadata": {},
     "output_type": "execute_result"
    }
   ],
   "source": [
    "to_metrics(y_train, train_prediction)"
   ]
  },
  {
   "cell_type": "code",
   "execution_count": 126,
   "id": "3ab50547",
   "metadata": {},
   "outputs": [
    {
     "data": {
      "text/plain": [
       "{'Accuracy': 0.19531772575250836,\n",
       " 'F1 Macro': 0.25362837361609725,\n",
       " 'Recall Macro': 0.25362837361609725,\n",
       " 'Precission Macro': 0.25362837361609725,\n",
       " 'F1 Micro': 0.7232150348183572,\n",
       " 'Recall Micro': 0.7232150348183572,\n",
       " 'Precission Micro': 0.7232150348183572}"
      ]
     },
     "execution_count": 126,
     "metadata": {},
     "output_type": "execute_result"
    }
   ],
   "source": [
    "to_metrics(y_test, test_prediction)"
   ]
  },
  {
   "cell_type": "code",
   "execution_count": 134,
   "id": "c6019190",
   "metadata": {},
   "outputs": [
    {
     "name": "stdout",
     "output_type": "stream",
     "text": [
      "                                         precision    recall  f1-score   support\n",
      "\n",
      "                        simple sentence       0.65      0.97      0.78      1800\n",
      "                      compound sentence       0.00      0.00      0.00       167\n",
      "                       complex sentence       0.56      0.07      0.13       741\n",
      "              compound-complex sentence       0.00      0.00      0.00       204\n",
      "                    incomplete sentence       0.00      0.00      0.00        89\n",
      "                    transitive sentence       0.71      0.25      0.37      1197\n",
      "                  intransitive sentence       0.67      0.80      0.73      1658\n",
      "               sentence in active voice       0.75      0.97      0.85      2015\n",
      "              sentence in passive voice       0.92      0.05      0.09       747\n",
      "                Noun-predicate sentence       0.95      0.40      0.56       396\n",
      "           Adjective-predicate sentence       1.00      0.00      0.01       234\n",
      "Prepositional phrase-predicate sentence       0.00      0.00      0.00        42\n",
      "             Numeral-predicate sentence       0.00      0.00      0.00        46\n",
      "                   declarative sentence       0.99      1.00      0.99      2954\n",
      "                 interrogative sentence       0.00      0.00      0.00        26\n",
      "                    imperative sentence       0.00      0.00      0.00         5\n",
      "                   exclamative sentence       0.00      0.00      0.00         2\n",
      "                      inverted sentence       0.82      0.19      0.31       375\n",
      "             sentences with dislocation       0.00      0.00      0.00        58\n",
      "\n",
      "                              micro avg       0.78      0.68      0.72     12756\n",
      "                              macro avg       0.42      0.25      0.25     12756\n",
      "                           weighted avg       0.75      0.68      0.64     12756\n",
      "                            samples avg       0.78      0.69      0.73     12756\n",
      "\n"
     ]
    },
    {
     "name": "stderr",
     "output_type": "stream",
     "text": [
      "/home/arie/miniconda3/envs/da38/lib/python3.8/site-packages/sklearn/metrics/_classification.py:1248: UndefinedMetricWarning: Precision and F-score are ill-defined and being set to 0.0 in labels with no predicted samples. Use `zero_division` parameter to control this behavior.\n",
      "  _warn_prf(average, modifier, msg_start, len(result))\n"
     ]
    }
   ],
   "source": [
    "print(classification_report(y_test, test_prediction, target_names=y_columns))"
   ]
  },
  {
   "cell_type": "markdown",
   "id": "9bcb1d21",
   "metadata": {},
   "source": [
    "Among the top performing sentence classes:\n",
    "* `simple sentence`, `intransitive sentence`, `sentence in active voice` have too many false positive, could the model naively label all sentences as those class?\n",
    "* `sentence in passive voice`, `Noun-predicate sentence`, `Adjective-predicate sentence`, `inverted sentence` have too many false negative, could the model naively label all sentences as those class?"
   ]
  },
  {
   "cell_type": "code",
   "execution_count": 135,
   "id": "056dc5ba",
   "metadata": {},
   "outputs": [],
   "source": [
    "false_positive_oriented = [\n",
    "    \"simple sentence\", \n",
    "    \"intransitive sentence\",\n",
    "    \"sentence in active voice\"\n",
    "]\n",
    "\n",
    "false_negative_oriented = [\n",
    "    \"sentence in passive voice\",\n",
    "    \"Noun-predicate sentence\",\n",
    "    \"Adjective-predicate sentence\",\n",
    "    \"inverted sentence\"\n",
    "]"
   ]
  },
  {
   "cell_type": "code",
   "execution_count": 138,
   "id": "39ff9c4a",
   "metadata": {},
   "outputs": [],
   "source": [
    "ctoi = {c: i for i, c in enumerate(y_columns)}"
   ]
  },
  {
   "cell_type": "code",
   "execution_count": 152,
   "id": "6fb3a04f",
   "metadata": {},
   "outputs": [],
   "source": [
    "def pct_of(predictions, classes, ctoi, value=True):\n",
    "    result = {}\n",
    "    count_all_predictions = float(predictions.shape[0])\n",
    "    for clz in classes:\n",
    "        \n",
    "        slices = predictions[:, ctoi[clz]]\n",
    "        result[clz] = slices[slices == value].shape[0] / count_all_predictions\n",
    "    return result"
   ]
  },
  {
   "cell_type": "code",
   "execution_count": 155,
   "id": "bbf740cf",
   "metadata": {},
   "outputs": [
    {
     "data": {
      "text/plain": [
       "{'simple sentence': 0.8969899665551839, 'intransitive sentence': 0.662876254180602, 'sentence in active voice': 0.8759197324414716}"
      ]
     },
     "execution_count": 155,
     "metadata": {},
     "output_type": "execute_result"
    }
   ],
   "source": [
    "pct_of(test_prediction, false_positive_oriented, ctoi, value=True)"
   ]
  },
  {
   "cell_type": "code",
   "execution_count": 156,
   "id": "cfd7507d",
   "metadata": {},
   "outputs": [
    {
     "data": {
      "text/plain": [
       "{'sentence in passive voice': 0.9876254180602007, 'Noun-predicate sentence': 0.9448160535117057, 'Adjective-predicate sentence': 0.9996655518394649, 'inverted sentence': 0.9709030100334448}"
      ]
     },
     "execution_count": 156,
     "metadata": {},
     "output_type": "execute_result"
    }
   ],
   "source": [
    "pct_of(test_prediction, false_negative_oriented, ctoi, value=False)"
   ]
  },
  {
   "cell_type": "markdown",
   "id": "dcdce2f4",
   "metadata": {},
   "source": [
    "It seems like the model will naively guess:\n",
    "`simple sentence`, `intransitive sentence`, `sentence in active voice` as `True` and\n",
    "`sentence in passive voice`, `Noun-predicate sentence`, `Adjective-predicate sentence`, `inverted sentence` to be `False`\n",
    "\n",
    "Of course with tf-idf the model will try to remember the words, which make this model non-ideal. Human will try to see the morphology of words in a sentence before determining what category is the current observed sentence is.\n",
    "\n",
    "\n",
    "Additionally, there are some \"hierarchy\" of sentence category that should be independent with each others. Using this knowledge, might improve the model performance. "
   ]
  },
  {
   "cell_type": "markdown",
   "id": "c3155681",
   "metadata": {},
   "source": [
    "Further Improvements:\n",
    "1. Use available morphological analyzer, such as `MorphInd` and put the morphology structure as features.\n",
    "2. Use pos tagging as features."
   ]
  }
 ],
 "metadata": {
  "kernelspec": {
   "display_name": "Python 3",
   "language": "python",
   "name": "python3"
  },
  "language_info": {
   "codemirror_mode": {
    "name": "ipython",
    "version": 3
   },
   "file_extension": ".py",
   "mimetype": "text/x-python",
   "name": "python",
   "nbconvert_exporter": "python",
   "pygments_lexer": "ipython3",
   "version": "3.8.10"
  }
 },
 "nbformat": 4,
 "nbformat_minor": 5
}
